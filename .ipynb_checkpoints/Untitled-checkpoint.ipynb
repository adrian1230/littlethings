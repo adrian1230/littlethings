{
 "cells": [
  {
   "cell_type": "code",
   "execution_count": 7,
   "metadata": {},
   "outputs": [
    {
     "data": {
      "text/plain": [
       "[3, 6, 6, 9, 11, 12]"
      ]
     },
     "execution_count": 7,
     "metadata": {},
     "output_type": "execute_result"
    }
   ],
   "source": [
    "import sys\n",
    "\n",
    "# a = sys.argv[1]\n",
    "\n",
    "#  1 4 10 16 25 36 48\n",
    "#  \t3 6  6  9  11 12\n",
    "#  \t3 5  7  9  11 13\n",
    "\n",
    "#  1 3 5 7 9 10\n",
    "#   2 2 2 2 1\n",
    "\n",
    "a = '1,4,10,16,25,36,48'\n",
    "\n",
    "b = a.split(',')\n",
    "c = []\n",
    "while len(c) != (len(b)-1):\n",
    "    for ind in range(len(b)):\n",
    "        if ind == 0:\n",
    "            pass\n",
    "        else:\n",
    "            val = int(b[ind]) - int(b[ind-1])\n",
    "            c.append(val)\n",
    "# return c\n",
    "c\n",
    "\n",
    "# error(a)\n"
   ]
  },
  {
   "cell_type": "code",
   "execution_count": 10,
   "metadata": {},
   "outputs": [],
   "source": [
    "d = []\n",
    "while len(d) != (len(c)-1):\n",
    "    for ind in range(len(c)):\n",
    "        if ind == 0:\n",
    "            pass\n",
    "        else:\n",
    "            val = int(c[ind]) - int(c[ind-1])\n",
    "            d.append(val)"
   ]
  },
  {
   "cell_type": "code",
   "execution_count": 11,
   "metadata": {},
   "outputs": [
    {
     "data": {
      "text/plain": [
       "[3, 0, 3, 2, 1]"
      ]
     },
     "execution_count": 11,
     "metadata": {},
     "output_type": "execute_result"
    }
   ],
   "source": [
    "d"
   ]
  },
  {
   "cell_type": "code",
   "execution_count": 14,
   "metadata": {},
   "outputs": [
    {
     "data": {
      "text/plain": [
       "['1', '4', '10', '16', '25', '36', '48']"
      ]
     },
     "execution_count": 14,
     "metadata": {},
     "output_type": "execute_result"
    }
   ],
   "source": [
    "(a.split(','))"
   ]
  },
  {
   "cell_type": "code",
   "execution_count": 64,
   "metadata": {},
   "outputs": [],
   "source": [
    "def err_fix(a):\n",
    "    inp = a\n",
    "    ut = inp.split(' ')\n",
    "    ut = [int(i) for i in ut]\n",
    "    safest = [ut[0]]\n",
    "    safest_diff_val = ut[1]-ut[0]\n",
    "    while len(safest) != len(ut):\n",
    "        safest.append(safest[-1]+safest_diff_val)\n",
    "    mostLikely = [ut[0]]\n",
    "    difference = []\n",
    "    while len(difference) != (len(ut)-1):\n",
    "        for j in range(len(ut)):\n",
    "            if j == 0:\n",
    "                pass\n",
    "            else:\n",
    "                value = ut[j] - ut[j-1]\n",
    "                difference.append(value)\n",
    "    return safest, difference"
   ]
  },
  {
   "cell_type": "code",
   "execution_count": 56,
   "metadata": {},
   "outputs": [
    {
     "name": "stdout",
     "output_type": "stream",
     "text": [
      "1 4 10 16 25 36 48 69 84 101\n"
     ]
    },
    {
     "data": {
      "text/plain": [
       "([1, 4, 7, 10, 13, 16, 19, 22, 25, 28], [3, 6, 6, 9, 11, 12, 21, 15, 17])"
      ]
     },
     "execution_count": 56,
     "metadata": {},
     "output_type": "execute_result"
    }
   ],
   "source": [
    "err_fix()"
   ]
  },
  {
   "cell_type": "code",
   "execution_count": 54,
   "metadata": {},
   "outputs": [
    {
     "data": {
      "text/plain": [
       "'1 4 10 16 25 36 48'"
      ]
     },
     "execution_count": 54,
     "metadata": {},
     "output_type": "execute_result"
    }
   ],
   "source": [
    "'1 4 10 16 25 36 48'"
   ]
  },
  {
   "cell_type": "code",
   "execution_count": 29,
   "metadata": {},
   "outputs": [
    {
     "data": {
      "text/plain": [
       "'1 4 9 16 25 36 49'"
      ]
     },
     "execution_count": 29,
     "metadata": {},
     "output_type": "execute_result"
    }
   ],
   "source": [
    "'1 4 9 16 25 36 49'"
   ]
  },
  {
   "cell_type": "code",
   "execution_count": 65,
   "metadata": {},
   "outputs": [],
   "source": [
    "# no effective solution if the features of solution ever suggest"
   ]
  },
  {
   "cell_type": "code",
   "execution_count": 80,
   "metadata": {},
   "outputs": [],
   "source": [
    "# start: 1\n",
    "# length: 10\n",
    "# alternate between singular and plural\n",
    "# 1 4 10  21  43  88  178   357   715   1432\n",
    "#  3 6  11  22  45  90   179   358   717"
   ]
  },
  {
   "cell_type": "code",
   "execution_count": 81,
   "metadata": {},
   "outputs": [],
   "source": [
    "# 1 4 10\n",
    "#  3 6\n",
    "#\n",
    "# 1 3 8\n",
    "#  2 5\n",
    "#\n",
    "# 2 5 11\n",
    "#  3 6\n",
    "#\n",
    "# 2 6 13\n",
    "#  4 7"
   ]
  },
  {
   "cell_type": "code",
   "execution_count": 85,
   "metadata": {},
   "outputs": [
    {
     "ename": "IndentationError",
     "evalue": "expected an indented block (<ipython-input-85-3d02b74b19e6>, line 11)",
     "output_type": "error",
     "traceback": [
      "\u001b[0;36m  File \u001b[0;32m\"<ipython-input-85-3d02b74b19e6>\"\u001b[0;36m, line \u001b[0;32m11\u001b[0m\n\u001b[0;31m    array.append()\u001b[0m\n\u001b[0m    ^\u001b[0m\n\u001b[0;31mIndentationError\u001b[0m\u001b[0;31m:\u001b[0m expected an indented block\n"
     ]
    }
   ],
   "source": [
    "def rollOut(\n",
    "    start:'start value',\n",
    "    length:'length of array',\n",
    "    first:'only singular or plural'):\n",
    "    array = [start]\n",
    "    if lower(first) == 'singular':\n",
    "        while len(array) != length:\n",
    "            value = start\n",
    "            while value == start:\n",
    "                \n",
    "            array.append()\n",
    "    return array"
   ]
  },
  {
   "cell_type": "code",
   "execution_count": null,
   "metadata": {},
   "outputs": [],
   "source": []
  },
  {
   "cell_type": "code",
   "execution_count": null,
   "metadata": {},
   "outputs": [],
   "source": []
  },
  {
   "cell_type": "code",
   "execution_count": null,
   "metadata": {},
   "outputs": [],
   "source": []
  },
  {
   "cell_type": "code",
   "execution_count": null,
   "metadata": {},
   "outputs": [],
   "source": []
  },
  {
   "cell_type": "code",
   "execution_count": null,
   "metadata": {},
   "outputs": [],
   "source": []
  },
  {
   "cell_type": "code",
   "execution_count": null,
   "metadata": {},
   "outputs": [],
   "source": []
  },
  {
   "cell_type": "code",
   "execution_count": null,
   "metadata": {},
   "outputs": [],
   "source": []
  },
  {
   "cell_type": "code",
   "execution_count": null,
   "metadata": {},
   "outputs": [],
   "source": []
  }
 ],
 "metadata": {
  "kernelspec": {
   "display_name": "Python 3",
   "language": "python",
   "name": "python3"
  },
  "language_info": {
   "codemirror_mode": {
    "name": "ipython",
    "version": 3
   },
   "file_extension": ".py",
   "mimetype": "text/x-python",
   "name": "python",
   "nbconvert_exporter": "python",
   "pygments_lexer": "ipython3",
   "version": "3.8.6"
  }
 },
 "nbformat": 4,
 "nbformat_minor": 4
}
